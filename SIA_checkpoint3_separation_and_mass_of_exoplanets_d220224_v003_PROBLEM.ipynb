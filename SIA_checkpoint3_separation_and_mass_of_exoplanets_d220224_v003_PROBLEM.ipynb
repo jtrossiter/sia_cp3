{
 "cells": [
  {
   "cell_type": "markdown",
   "id": "5bace3fb-bd06-4322-ba88-0106a97e51ec",
   "metadata": {},
   "source": [
    "# SIA Assignment 3: Characterising the orbits and masses of extrasolar planets"
   ]
  },
  {
   "cell_type": "markdown",
   "id": "8253f905-de8d-45e0-aa8a-af90a5fb215a",
   "metadata": {},
   "source": [
    "In this assignment, you will work with the same 5-hour long observation of HR 8799bcde from the week 6 workshop. Now we are going to go beyond detecting the 4 planets, to extracting astrometry and photometry for each planet.  "
   ]
  },
  {
   "cell_type": "markdown",
   "id": "944ee14e-3ebb-4c89-baae-2723be58a1f4",
   "metadata": {},
   "source": [
    "The two image analysis steps that you will be marked on (20% each, with an additional 30% of the mark based on code efficiency, structure, and comments) are: \n",
    "\n",
    "1) to measure the on-sky separation between each planet and star in units of astronomical units (AU) and compare to solar system planets\n",
    "2) to measure the brightness of each planet and use exoplanet models to estimate the mass of each planet.\n",
    "\n",
    "In addition, up to 30% of the mark on this assignment is based on evidence for version control, which is especially important when working as a group.  Thus, please use the last cell in this notebook (in markdown mode) to keep a log of changes as you work on this assignment.  "
   ]
  },
  {
   "cell_type": "code",
   "execution_count": null,
   "id": "475700dc-c1aa-42f6-afc8-eddd5209c705",
   "metadata": {},
   "outputs": [],
   "source": [
    "# import a number of critical python packages\n",
    "import numpy as np\n",
    "from astropy.io import fits\n",
    "import matplotlib.pyplot as plt\n",
    "from astropy.visualization import SqrtStretch, ImageNormalize\n",
    "from scipy import ndimage\n",
    "import scipy.linalg as la\n",
    "import matplotlib.ticker as ticker\n",
    "from tqdm import tqdm\n",
    "from astropy.table import Table\n",
    "from scipy import interpolate\n",
    "\n",
    "# python packages for astrometry / photometry\n",
    "from astropy.stats import sigma_clipped_stats\n",
    "from photutils.detection import DAOStarFinder\n",
    "from photutils.aperture import CircularAperture, CircularAnnulus\n",
    "from photutils.aperture import ApertureStats\n",
    "from photutils.aperture import aperture_photometry"
   ]
  },
  {
   "cell_type": "markdown",
   "id": "e2797d12-5e7a-485d-9115-728ea527751b",
   "metadata": {},
   "source": [
    "Some useful functions to implement PCA from the workshop:"
   ]
  },
  {
   "cell_type": "code",
   "execution_count": null,
   "id": "3e3fc320-6349-44b3-9e48-e146021ba799",
   "metadata": {},
   "outputs": [],
   "source": [
    "def calc_KL_basis(covar_psfs, ref_psfs_mean_sub, numbasis=200):\n",
    "\n",
    "    # Given a covariance matrix built from an array of reference PSFs, calculate the eigenvectors, eigenvectors, and resulting K-L basis set.\n",
    "    # Adapted from: https://pyklip.readthedocs.io/en/latest/\n",
    "    max_basis = np.max(numbasis) + 1\n",
    "    tot_basis = covar_psfs.shape[0]\n",
    "\n",
    "    evals, evecs = la.eigh(covar_psfs, subset_by_index=[tot_basis-max_basis, tot_basis-1])\n",
    "\n",
    "    # scipy.linalg.eigh spits out the eigenvalues/vectors smallest first so we need to reverse\n",
    "    # we're going to recopy them to hopefully improve caching when doing matrix multiplication\n",
    "    evals = np.copy(evals[::-1])\n",
    "    evecs = np.copy(evecs[:,::-1], order='F') #fortran order to improve memory caching in matrix multiplication\n",
    "\n",
    "    # calculate the KL basis vectors\n",
    "    kl_basis = np.dot(ref_psfs_mean_sub.T, evecs)\n",
    "\n",
    "    # multiply by 1 / sqrt(eigenvalues)    \n",
    "    kl_basis = kl_basis * (1. / np.sqrt(evals * (kl_basis.shape[0] - 1)))[None, :]  #multiply a value for each row\n",
    "\n",
    "    return(kl_basis)            "
   ]
  },
  {
   "cell_type": "code",
   "execution_count": null,
   "id": "6d558d9b-9c2c-420d-914d-e02f9d9041e1",
   "metadata": {},
   "outputs": [],
   "source": [
    "def make_KLIP_psf(im, kl_basis, numbasis=200):\n",
    "\n",
    "    # Given a science image and K-L basis set, project the science image onto the K-L basis set.\n",
    "    # Adapted from: https://pyklip.readthedocs.io/en/latest/\n",
    "    \n",
    "    max_basis = np.max(numbasis) + 1\n",
    "    sci = np.ravel(im) # flatten image into 1d array\n",
    "    sci_mean_sub = sci - np.nanmean(sci) # subtract off mean\n",
    "\n",
    "    sci_mean_sub_rows = np.tile(sci_mean_sub, (max_basis, 1))\n",
    "\n",
    "    inner_products = np.dot(sci_mean_sub_rows, kl_basis)\n",
    "                            #np.require(kl_basis, requirements=['F']))\n",
    "    # select the KLIP modes we want for each level of KLIP by multiplying by lower diagonal matrix\n",
    "    lower_tri = np.tril(np.ones([max_basis, max_basis]))\n",
    "    inner_products = inner_products * lower_tri\n",
    "\n",
    "    klip_psf = np.dot(inner_products[numbasis,:], kl_basis.T)\n",
    "    klip_psf_2d = np.reshape(klip_psf, (im.shape[0], im.shape[1]))\n",
    "\n",
    "    return(klip_psf_2d)"
   ]
  },
  {
   "cell_type": "markdown",
   "id": "dc6d80a6-522f-4ce1-879e-a0beaf93c456",
   "metadata": {},
   "source": [
    "Open the data files:"
   ]
  },
  {
   "cell_type": "code",
   "execution_count": null,
   "id": "5fd34915-8d6c-4fbc-90a0-f35e5bdf257b",
   "metadata": {},
   "outputs": [],
   "source": [
    "# open the reduced and centered SPHERE data cube\n",
    "imname = 'ird_convert_recenter_dc5-IRD_SCIENCE_REDUCED_MASTER_CUBE-center_im_ext1_smallcube.fits'\n",
    "\n",
    "# open the parallactic angle file:\n",
    "# For this ADI sequence, the derotator was turned off, so the field-of-view will appear to rotate on the sky as the star \n",
    "# that is being observed rises and sets.\n",
    "# The parallactic angle is the angle between North and the vertical axis of each of the images in the SPHERE data cube.\n",
    "\n",
    "parname = 'ird_convert_recenter_dc5-IRD_SCIENCE_PARA_ROTATION_CUBE-rotnth.fits'\n",
    "\n",
    "# get data\n",
    "imcube = fits.getdata(imname)\n",
    "pararr = fits.getdata(parname)\n"
   ]
  },
  {
   "cell_type": "markdown",
   "id": "f181e59d-dff3-494f-abcf-0fb5a6116cc0",
   "metadata": {},
   "source": [
    "## Preamble: Run PCA with varying numbers of principal components to decide how many principal components to adopt"
   ]
  },
  {
   "cell_type": "markdown",
   "id": "06f9f2d8-8ed5-4b93-bf0d-c7a2acc62351",
   "metadata": {},
   "source": [
    "Let's start by running the PCA algorithm on the data with a varying number of principal components, to determine the effect of the number of principal components adopted on the final output image."
   ]
  },
  {
   "cell_type": "markdown",
   "id": "b155b689-bcd2-4434-a3ef-609d06e2ebb6",
   "metadata": {},
   "source": [
    "Since we will likely run this a few times, let's write some convenience functions to make things easier.  First, let's write a function to take an input data cube and make the corresponding covariance matrix and set of reference psfs."
   ]
  },
  {
   "cell_type": "code",
   "execution_count": null,
   "id": "621681fa-384e-4491-b67b-032a0b5d90db",
   "metadata": {},
   "outputs": [],
   "source": [
    "def make_cov_matrix(cube):\n",
    "    # reshape array of psfs\n",
    "\n",
    "\n",
    "    # subtract off the mean from each row of the ref_psfs array\n",
    "\n",
    "\n",
    "    # find the covariance matrix of the array of reference images\n",
    "\n",
    "\n",
    "    return(covar_psfs, ref_psfs_mean_sub)"
   ]
  },
  {
   "cell_type": "markdown",
   "id": "37ff4841-5d3b-44bb-8a34-2ed4eacc4e70",
   "metadata": {},
   "source": [
    "Starting with the covariance matrix, reference psfs, image cube, and parallactic angle array, write a convenience function to calculate the KL basis set, build and subtract a PSF model for each image in the cube, then derotate and stack the final subtracted cube.  "
   ]
  },
  {
   "cell_type": "code",
   "execution_count": null,
   "id": "38f27c9e-408c-442a-8ff5-54f9e60886ff",
   "metadata": {},
   "outputs": [],
   "source": [
    "def run_full_PCA(covar_psfs, ref_psfs_mean_sub, data, pararr, numbasis=200):\n",
    "    # calculate the KL basis vectors \n",
    " \n",
    "    # step through each image, make its own klip_psf, subtract from the on-sky data cube, derotate, and stack\n",
    "\n",
    "    for i in tqdm(np.arange(datashape[0])):\n",
    "        \n",
    "\n",
    "    return np.nanmedian(, axis=0)    "
   ]
  },
  {
   "cell_type": "markdown",
   "id": "7ce63387-ce4e-4c48-9335-0d3c2827fed3",
   "metadata": {},
   "source": [
    "Now run the PCA algorithm on the data cube with 5 to 55 principal components, in steps of 10 components.  Save the output to a data cube."
   ]
  },
  {
   "cell_type": "code",
   "execution_count": null,
   "id": "136ad7e5-e596-44fc-970e-efc04f771371",
   "metadata": {},
   "outputs": [],
   "source": [
    "# run PCA algorithm with 5 to 50 principal components, in steps of 5 components, save output in a datacube\n",
    "\n",
    "covar_psfs, ref_psfs_mean_sub = make_cov_matrix(imcube)\n",
    "\n",
    "ncomps = np.arange(5, 60, 10)\n",
    "\n",
    "imstack = np.zeros((len(ncomps), imcube.shape[1], imcube.shape[2]))\n",
    "\n",
    "for i in np.arange(len(ncomps)):\n"
   ]
  },
  {
   "cell_type": "markdown",
   "id": "7785c859-fbdf-4d7d-8965-0f369f5a16e5",
   "metadata": {},
   "source": [
    "Plot the results.  Be sure to label how many principal components were used in each output image."
   ]
  },
  {
   "cell_type": "code",
   "execution_count": null,
   "id": "72021b3e-beb3-4cc4-8725-d2b80422324f",
   "metadata": {},
   "outputs": [],
   "source": [
    "#plot results\n",
    "\n",
    "fig = plt.figure(figsize=(30,20))\n",
    "\n",
    "for i in np.arange(len(ncomps)):\n",
    "\n",
    "    ax = fig.add_subplot(2,3,i+1)\n",
    "\n"
   ]
  },
  {
   "cell_type": "markdown",
   "id": "e5f76825-923a-4ca7-a02f-15e1f0b3884b",
   "metadata": {},
   "source": [
    "A few observations: \n",
    "1) the more principal components used, the better subtracted the speckle noise, but the longer the PCA takes to run.\n",
    "2) the exoplanets don't look like perfect point sources -- they are super-imposed on a dark, angular streak.  This is the result of having light from the exoplanet in the stack of reference images used to build the KL-basis.  The dark streaks are due to self-subtraction of the planet from itself.  The more principal components used, the worse the self-subtraction will be.\n",
    "\n",
    "Thus, choosing the best number of principal components to adopt is a balance between sufficient speckle suppression and minimising self-subtraction of each planet.  Let's use 35 principal components for the rest of this assignment, as this seems to provide a good balance between the two. "
   ]
  },
  {
   "cell_type": "markdown",
   "id": "d594fd3e-cea8-4429-a93a-7f9a2cf79176",
   "metadata": {},
   "source": [
    "## Image Analysis Step 1: find the on-sky separation between the planets and the star, compare with solar system planets"
   ]
  },
  {
   "cell_type": "markdown",
   "id": "e07fb3ca-a2a5-4a1f-809c-ea74037becdb",
   "metadata": {},
   "source": [
    "Like in workshop 4, we will use DAOStarFinder to find the positions of each planet.  We'll use the stacked image with 35 principal components subtracted, but you should find similar results with any of the stacked images from the last step.  Since you may want to run this step a few times, let's start by writing a convenience function to run DAOStarFinder and produce a table of sources:"
   ]
  },
  {
   "cell_type": "code",
   "execution_count": null,
   "id": "6f7fa786-b4d7-4974-8230-a2d29b2d4d84",
   "metadata": {},
   "outputs": [],
   "source": [
    "def run_DAOStarFinder(im, fwhm, threshold):\n",
    "\n",
    "    # use sigma_clipped_stats from astropy to calculate the mean median and std\n",
    "\n",
    "    # run DAOStarFinder\n",
    "\n",
    "\n",
    "    return sources    "
   ]
  },
  {
   "cell_type": "markdown",
   "id": "f43d5a44-61f7-423f-8d4e-f7b7734f4c0b",
   "metadata": {},
   "source": [
    "Let's start by running with fwhm = 4 pixels and a threshold of 100 times the standard deviation of the image."
   ]
  },
  {
   "cell_type": "code",
   "execution_count": null,
   "id": "92efd339-d2f8-4864-a7f3-2f8086cc884e",
   "metadata": {},
   "outputs": [],
   "source": [
    "sources = run_DAOStarFinder(imstack[3, :, :], 4., 100.)"
   ]
  },
  {
   "cell_type": "markdown",
   "id": "6b01533e-707c-4ebe-9011-fbf1c8c26209",
   "metadata": {},
   "source": [
    "Print out your resulting source table"
   ]
  },
  {
   "cell_type": "code",
   "execution_count": null,
   "id": "7892fe85-b7d0-489c-8307-e823554e6308",
   "metadata": {},
   "outputs": [],
   "source": [
    "sources"
   ]
  },
  {
   "cell_type": "markdown",
   "id": "f2b156ab-2811-4424-a110-222810b803f4",
   "metadata": {},
   "source": [
    "Overplot the detected sources on the image"
   ]
  },
  {
   "cell_type": "code",
   "execution_count": null,
   "id": "19f09e4d-0ef1-48a5-822c-1469cdfbaf2c",
   "metadata": {},
   "outputs": [],
   "source": [
    "positions = np.transpose((sources['xcentroid'], sources['ycentroid']))\n",
    "apertures = CircularAperture(positions, r=4.0)"
   ]
  },
  {
   "cell_type": "code",
   "execution_count": null,
   "id": "cdda3b24-5dd7-444e-ba26-855f082d5b46",
   "metadata": {},
   "outputs": [],
   "source": [
    "fig = plt.figure(figsize=(20,20))\n",
    "\n",
    "ax = fig.add_subplot(111)\n",
    "\n",
    "norm = ImageNormalize(imstack[3, :, :], vmin=-5, vmax=5)\n",
    "ax.imshow(imstack[3, :, :], norm=norm, origin='lower')\n",
    "\n",
    "apertures.plot(color='white', lw=3.0, alpha=0.5)"
   ]
  },
  {
   "cell_type": "markdown",
   "id": "c511931d-2c96-43c6-9f64-1c8c01678d95",
   "metadata": {},
   "source": [
    "All 4 planets are detected, but so is a lot of other residual speckle noise left over in the core of the image.  Adjust fwhm and threshold until you robustly detect only the 4 planets.  Print out the resulting source table and replot the image with the detections of the exoplanets overlaid."
   ]
  },
  {
   "cell_type": "code",
   "execution_count": null,
   "id": "a553c923-e271-48fb-9b73-6cadeab7b5be",
   "metadata": {},
   "outputs": [],
   "source": [
    "bestfwhm = \n",
    "bestthreshold = \n",
    "sources = run_DAOStarFinder(imstack[3, :, :], bestfwhm, bestthreshold)"
   ]
  },
  {
   "cell_type": "code",
   "execution_count": null,
   "id": "e2158509-d739-439a-920f-9666fe8b372a",
   "metadata": {},
   "outputs": [],
   "source": [
    "sources"
   ]
  },
  {
   "cell_type": "code",
   "execution_count": null,
   "id": "4d750555-3a7d-4f7b-9d0a-50cc59b2ae47",
   "metadata": {},
   "outputs": [],
   "source": [
    "positions = np.transpose((sources['xcentroid'], sources['ycentroid']))\n",
    "apertures = CircularAperture(positions, r=4.0)"
   ]
  },
  {
   "cell_type": "code",
   "execution_count": null,
   "id": "348b44ea-ec0e-4f20-83bd-b32e3250b271",
   "metadata": {},
   "outputs": [],
   "source": [
    "fig = plt.figure(figsize=(20,20))\n",
    "\n",
    "ax = fig.add_subplot(111)\n",
    "\n",
    "norm = ImageNormalize(imstack[3, :, :], vmin=-5, vmax=5)\n",
    "ax.imshow(imstack[3, :, :], norm=norm, origin='lower')\n",
    "\n",
    "apertures.plot(color='white', lw=3.0, alpha=0.5)"
   ]
  },
  {
   "cell_type": "markdown",
   "id": "0efad378-0862-4f95-9aa3-2744a07bf4d1",
   "metadata": {},
   "source": [
    "## Find position of planets in polar coordinates, i.e. radius, position angle (theta) units \n",
    "\n",
    "The centre of the image is at pixel 200, 200.  The convention for angles in astronomy place 0 degrees at North, with angles increasing positively anticlockwise from North."
   ]
  },
  {
   "cell_type": "code",
   "execution_count": null,
   "id": "c31beb7f-ce8f-4505-b3e5-779547044445",
   "metadata": {},
   "outputs": [],
   "source": [
    "xcen = 200.\n",
    "ycen = 200.\n",
    "r = np.sqrt(np.power(sources['xcentroid'] - xcen,2.) + np.power(sources['ycentroid'] - ycen,2.))\n",
    "theta = np.arctan2(-(sources['xcentroid'] - xcen), sources['ycentroid'] - ycen)"
   ]
  },
  {
   "cell_type": "markdown",
   "id": "e8fd790c-4457-49ab-9e1f-d877bccb679f",
   "metadata": {},
   "source": [
    "Convert and print out your planet separations from units of pixels to units of arcseconds.  The pixel scale of the SPHERE detector is: 0.01225 arcsecond / pixel."
   ]
  },
  {
   "cell_type": "code",
   "execution_count": null,
   "id": "2254cc9b-c71a-415b-92e7-3ea4ba413331",
   "metadata": {},
   "outputs": [],
   "source": []
  },
  {
   "cell_type": "markdown",
   "id": "901c3a8e-4981-42e7-a530-b4fae31f9b6f",
   "metadata": {},
   "source": [
    "Now convert to units of astronomical units (AU).  1 AU is the average distance between the Earth and the Sun.  The distance to the HR 8799 system is 40.8 pc.  To convert to AU, you just need to multiply the separation in arcsec with the distance to the star in pc."
   ]
  },
  {
   "cell_type": "code",
   "execution_count": null,
   "id": "41bc42aa-f274-4776-b892-4175399b324d",
   "metadata": {},
   "outputs": [],
   "source": []
  },
  {
   "cell_type": "markdown",
   "id": "136d91ad-01e3-4d2e-a5d4-1061e4fc95e3",
   "metadata": {},
   "source": [
    "How do these values compare with the semi-major axes of the orbits of gas giants like Jupiter and Saturn in our own solar system?"
   ]
  },
  {
   "cell_type": "markdown",
   "id": "f43070c8-395d-4d46-b67f-a5096c837b02",
   "metadata": {},
   "source": []
  },
  {
   "cell_type": "markdown",
   "id": "e3758339-216f-42d3-b10c-983227e8592a",
   "metadata": {},
   "source": [
    "Print out the position angles of each planet in degrees as well:"
   ]
  },
  {
   "cell_type": "code",
   "execution_count": null,
   "id": "fc841b17-4ef1-4402-b804-5c4e7a1ff743",
   "metadata": {},
   "outputs": [],
   "source": []
  },
  {
   "cell_type": "markdown",
   "id": "0f6c8fda-545a-4004-810b-a27efa74cb19",
   "metadata": {},
   "source": [
    "## Image Analysis Step 2: Use simulated exoplanets to estimate the brightness and mass each of the planets"
   ]
  },
  {
   "cell_type": "markdown",
   "id": "3c32ff3b-bca8-4515-871b-14bd8e33ae8f",
   "metadata": {},
   "source": [
    "Since the PCA algorithm is not flux-conserving, we lose some (unquantified) amount of brightness from each planet when we run PCA.  Thus, unlike the seeing-limited image used in Workshop 4, we cannot simply perform aperture photometry to estimate the brightness of each planet.  Instead, we will use an image of the star taken without the coronagraph to simulate exoplanets in the raw data, then run PCA, and compare the brightness (after self-subtraction) of the simulated planets to the actual planets.  Let's start by inspecting the stellar image we will use to simulate the planets:"
   ]
  },
  {
   "cell_type": "code",
   "execution_count": null,
   "id": "3892b3aa-492e-4c7d-b702-0d80871b996f",
   "metadata": {},
   "outputs": [],
   "source": [
    "stellarim = fits.getdata('stellarim.fits')"
   ]
  },
  {
   "cell_type": "code",
   "execution_count": null,
   "id": "9119c6a5-03df-46df-baa8-51dddeb4f2ff",
   "metadata": {},
   "outputs": [],
   "source": [
    "fig = plt.figure(figsize=(20,20))\n",
    "\n",
    "ax = fig.add_subplot(111)\n",
    "\n",
    "ax.imshow(stellarim, origin='lower')"
   ]
  },
  {
   "cell_type": "markdown",
   "id": "e46dd07b-dc61-4357-b4e7-5abeb1a29d15",
   "metadata": {},
   "source": [
    "This is an image of the star without the coronagraph taken right before the coronagraphic sequence you have been working with.  The original exposure time of the image was quite short to prevent saturation (in other words, hitting the brightness limit where the detector runs out of dynamic range), but the image was then scaled to the exposure time used for the coronagraphic sequence.  Now let's write another convenience function, to make a cube of simulated planet images at the correct position angle for each image in the sequence.  It should take the data cube, stellar image, and array of parallactic angles as input, and simulate an exoplanet at a radius of rad pixels, with position angle theta, and at some delta(magnitude) dmag fainter than the primary star.  "
   ]
  },
  {
   "cell_type": "code",
   "execution_count": null,
   "id": "6f53bf9e-7e2a-49cf-a16f-451eba476789",
   "metadata": {},
   "outputs": [],
   "source": [
    "def simulate_object(data, stellarim, pararr, rad, theta, dmag, xcen=200, ycen=200, imdiam=400):\n",
    "    # goal of function: make an image cube with just simulated objects\n",
    "\n",
    "    # make an array with the same dimensions as the inputted data cube, but filled with only zeros.  Hint: try using np.zeros\n",
    "    psfcube =     \n",
    "\n",
    "    # put small stellar image into the center of an image with the same shape as each slice of the data cube, but composed only of zeros. \n",
    "    psfpadded = \n",
    "    \n",
    "    # figure out the appropriate position of the simulated object \n",
    "    xshifts = -rad * np.sin((pararr + theta) * (np.pi/180.))\n",
    "    yshifts = rad * np.cos((pararr + theta) * (np.pi/180.))\n",
    "    \n",
    "    # for each slice in the array with the same dimensions as the inputted cube, insert the simulated planet image at the right position\n",
    "    for i in tqdm(np.arange(data.shape[0])):\n",
    "        psfcube[i,:,:] = ndimage.shift()\n",
    "        \n",
    "    # Scale simulated planet images to the input Delta(mag) value\n",
    "    psfcube = psfcube * 10**(-dmag / 2.5)\n",
    "    \n",
    "    return(psfcube)\n"
   ]
  },
  {
   "cell_type": "markdown",
   "id": "a6de709a-0cbe-4a27-93a3-72582a936e99",
   "metadata": {},
   "source": [
    "Simulate a test object 4 magnitudes fainter than the star, at a radius of 100 pixels and a position angle of 60 degrees."
   ]
  },
  {
   "cell_type": "code",
   "execution_count": null,
   "id": "e4f03eff-da78-4ed3-935a-dae1e86d1611",
   "metadata": {},
   "outputs": [],
   "source": [
    "simcube = simulate_object(data, stellarim, pararr, 100., 60., 4.0)"
   ]
  },
  {
   "cell_type": "markdown",
   "id": "49b5678a-67c1-4341-9405-3ba13e975380",
   "metadata": {},
   "source": [
    "Plot a few frames from the resulting cube to see what this looks like:"
   ]
  },
  {
   "cell_type": "code",
   "execution_count": null,
   "id": "e488e9e5-05e1-4f39-8381-d0899c642c72",
   "metadata": {},
   "outputs": [],
   "source": [
    "#plot results\n",
    "\n",
    "fig = plt.figure(figsize=(30,20))\n",
    "\n",
    "for i in np.arange(6):\n",
    "\n",
    "    ax = fig.add_subplot(2,3,i+1)\n",
    "\n",
    "    norm = ImageNormalize(simcube[(i+1)*100, :, :], vmin=-5, vmax=5)\n",
    "    ax.imshow(simcube[(i+1)*100, :, :], origin='lower')\n",
    "    ax.set_title('frame '+str((i+1)*10), fontsize=20)"
   ]
  },
  {
   "cell_type": "markdown",
   "id": "ab35f352-522a-41fa-8e53-d42a5a94f2cf",
   "metadata": {},
   "source": [
    "Now add your simulated object cube to the image cube and rerun PCA.  You'll need to remake the covariance matrix with the new data cube that includes the simulated object.  In fact, go ahead and write a convenience function to build the covariance matrix."
   ]
  },
  {
   "cell_type": "markdown",
   "id": "ff37a5ff-ef2f-489b-935b-32bde24ca33a",
   "metadata": {},
   "source": [
    "Add the simulated object to the data cube and rerun the PCA"
   ]
  },
  {
   "cell_type": "code",
   "execution_count": null,
   "id": "5144dbf4-4650-447b-a428-b154c38e20b2",
   "metadata": {},
   "outputs": [],
   "source": [
    "# add simulated object to data cube\n",
    "datawithsimobject = data + simcube\n",
    "\n",
    "# rerun PCA with 35 principal components.  You'll need to remake the covariance matrix in this case.\n"
   ]
  },
  {
   "cell_type": "markdown",
   "id": "70ed7fed-4517-496a-a9e3-9dac5c2eef79",
   "metadata": {},
   "source": [
    "Display the resulting image.  You've simulated a very bright object, so you shouldn't see the planets."
   ]
  },
  {
   "cell_type": "code",
   "execution_count": null,
   "id": "033bac59-a0e9-4e5d-b7cf-2379186b30f2",
   "metadata": {},
   "outputs": [],
   "source": [
    "# plot result\n",
    "fig = plt.figure(figsize=(20,20))\n",
    "\n",
    "ax = fig.add_subplot(111)\n",
    "\n",
    "ax.imshow(imsimobject, origin='lower')"
   ]
  },
  {
   "cell_type": "markdown",
   "id": "d45d50c5-6717-4110-8fc8-d45517b52b87",
   "metadata": {},
   "source": [
    "Now that your simulation code is working, let's simulate a faint exoplanet.  Simulate an object at the same radius and position angle as before, but with dmag = 12.5."
   ]
  },
  {
   "cell_type": "code",
   "execution_count": null,
   "id": "0b84811e-f9d2-4ad6-a321-128b8daedd11",
   "metadata": {},
   "outputs": [],
   "source": [
    "simcube = simulate_object(imcube, stellarim, pararr, 100., 60., 12.5)"
   ]
  },
  {
   "cell_type": "markdown",
   "id": "ad35b9c1-c708-45e1-88d1-88aa65f5f1cb",
   "metadata": {},
   "source": [
    "Rerun PCA and display the resulting image:"
   ]
  },
  {
   "cell_type": "code",
   "execution_count": null,
   "id": "235fa460-fee1-4ed0-96cd-4b7168d95a9e",
   "metadata": {},
   "outputs": [],
   "source": [
    "# add simulated object to data cube\n",
    "imcubewithsimobject = imcube + simcube\n",
    "\n",
    "# rerun PCA with 35 principal components.  You'll need to remake the covariance matrix in this case.\n"
   ]
  },
  {
   "cell_type": "code",
   "execution_count": null,
   "id": "98eb89f4-49af-4f95-ba9a-b296e8897760",
   "metadata": {},
   "outputs": [],
   "source": [
    "# plot result\n"
   ]
  },
  {
   "cell_type": "markdown",
   "id": "f69f8d8d-b76e-4101-ba07-62fc9a3d3d4a",
   "metadata": {},
   "source": [
    "You can see that a planet 12.5 magnitudes fainter than the star is not too far off in appearance to the actual planets.  Let's first simulate some more planets at the separation of each of the actual planets and see if we can match the brightness of each planet in turn with a simulated version.  Let's start by simulating a Delta(mag)=12.5 planet at the separation of each of the 4 planets, but offset by 40 degrees in position angle."
   ]
  },
  {
   "cell_type": "code",
   "execution_count": null,
   "id": "2086ee11-2d33-46cf-bf57-74d6347e0be0",
   "metadata": {},
   "outputs": [],
   "source": [
    "# Simulate 4 planets with delta(mag) = 12.5, 40 degrees offset from each actual planet\n",
    "\n"
   ]
  },
  {
   "cell_type": "markdown",
   "id": "3e3ac146-4f42-40c3-9ef1-06b8d9fbf0c8",
   "metadata": {},
   "source": [
    "Re-run the PCA analysis, plot the resulting image"
   ]
  },
  {
   "cell_type": "code",
   "execution_count": null,
   "id": "b820721d-95a1-4e79-bf4e-c359f7216587",
   "metadata": {},
   "outputs": [],
   "source": [
    "# add simulated object to data cube\n",
    "\n",
    "# rerun PCA with 35 principal components\n",
    "\n"
   ]
  },
  {
   "cell_type": "code",
   "execution_count": null,
   "id": "010ed5b4-ad64-4bf3-995a-e3908b0f675a",
   "metadata": {},
   "outputs": [],
   "source": [
    "# plot result\n"
   ]
  },
  {
   "cell_type": "markdown",
   "id": "64716f3c-7f30-442d-a81b-71150d79a1b4",
   "metadata": {},
   "source": [
    "Let's try simulating exoplanets with Delta(mag) values ranging from 11.5 to 13.1, in steps of 0.2 mag, in the same positions as in the last example, and save the results in a stack of images (like we did when testing out the number of principal components to retain).  "
   ]
  },
  {
   "cell_type": "code",
   "execution_count": null,
   "id": "1bacf545-4bd5-48aa-b7ff-b3f01f40174b",
   "metadata": {},
   "outputs": [],
   "source": [
    "# simulate exoplanets at a range of Delta(mag) values\n",
    "\n"
   ]
  },
  {
   "cell_type": "code",
   "execution_count": null,
   "id": "2b77d96a-846c-4c78-8e89-359529689d0f",
   "metadata": {},
   "outputs": [],
   "source": [
    "#plot results\n",
    "\n",
    "fig = plt.figure(figsize=(10, 10*len(dmags)))\n",
    "\n",
    "for i in np.arange(len(dmags)):\n",
    "\n",
    "    ax = fig.add_subplot(len(dmags),1,i+1)\n",
    "\n",
    "  "
   ]
  },
  {
   "cell_type": "markdown",
   "id": "2adb29d9-f303-40c1-bd03-c022e3e52cd0",
   "metadata": {},
   "source": [
    "You can see by eye which of the simulated planets best match the actual observed planets.  With your project partner, go through the set of images you have plotted above and agree on the best matching Delta(mag) value for each planet.  HR 8799b is the furthest out of the planets, with HR 8799c, d, and e each successively closer in planet."
   ]
  },
  {
   "cell_type": "code",
   "execution_count": null,
   "id": "b5a380cc-1ca4-4712-858e-ce363654079e",
   "metadata": {},
   "outputs": [],
   "source": [
    "planet_dmags = []"
   ]
  },
  {
   "cell_type": "markdown",
   "id": "b5abc786-90de-4ae9-b551-d49538d02498",
   "metadata": {},
   "source": [
    "### Use your Delta(mag) estimates with an evolutionary model for exoplanets to estimate the mass of each planet"
   ]
  },
  {
   "cell_type": "markdown",
   "id": "8e6fbfa9-41dc-4cc5-83dc-0ad4fee453fe",
   "metadata": {},
   "source": [
    "The absolute magnitude of HR 8799 (the star) in H band is: 2.22.  This is the magnitude of the star you would measure if you were a distance of 10 pc away from the star, and is essentially a measure of the star's intrinsic luminosity.  You've just found out how much fainter each planet is compared to the star in units of magnitudes.  Now calculate the absolute magnitude for each planet.  (Hint: this is just the Delta(mag) you've just found plus the absolute magnitude of the star.)"
   ]
  },
  {
   "cell_type": "code",
   "execution_count": null,
   "id": "8e3ef449-012e-42d5-b0eb-6d2a0a69ef49",
   "metadata": {},
   "outputs": [],
   "source": [
    "# calculate the absolute magnitude of each planet\n"
   ]
  },
  {
   "cell_type": "markdown",
   "id": "7decef83-bbdd-48b8-9e32-ec782642f999",
   "metadata": {},
   "source": [
    "We'll now use the absolute magnitudes to estimate a mass for each planet from an evolutionary model.  This is a model that tracks the luminosity of brown dwarfs and giant exoplanets as they cools and dims with time.  Thus, if we know the absolute magnitude of a planet and also its age, we can estimate the mass that this corresponds to in the model.  You've just found the absolute magnitudes of each planet and the age of this star is about 50 million years.  The model is in a ascii table with two columns: mass (in Jupiter masses) and absolute H mag, Mh."
   ]
  },
  {
   "cell_type": "code",
   "execution_count": null,
   "id": "4411ce9b-b8da-467d-8109-5197e308ee9b",
   "metadata": {},
   "outputs": [],
   "source": [
    "model = Table.read('DUSTY_Hband_50Myr.txt', format='ascii')"
   ]
  },
  {
   "cell_type": "code",
   "execution_count": null,
   "id": "f29d3bba-a077-408e-9e9e-3e82eae1b755",
   "metadata": {},
   "outputs": [],
   "source": [
    "model"
   ]
  },
  {
   "cell_type": "markdown",
   "id": "6e469062-a7c7-4a29-b109-c7fc987f2d6a",
   "metadata": {},
   "source": [
    "Use scipy.interpolate.interp1d to estimate the masses of each planet:"
   ]
  },
  {
   "cell_type": "code",
   "execution_count": null,
   "id": "6e9115ea-98e2-4491-afb7-273af8ead980",
   "metadata": {},
   "outputs": [],
   "source": [
    "f = interpolate.interp1d(model['Mh'], model['Mass'])\n",
    "\n",
    "masses = f(planet_dmags + 2.22)"
   ]
  },
  {
   "cell_type": "markdown",
   "id": "733025de-9bf0-42f5-b5c0-308e1c2d65d8",
   "metadata": {},
   "source": [
    "Print out your estimates for the masses of the planets."
   ]
  },
  {
   "cell_type": "code",
   "execution_count": null,
   "id": "d2bab42f-4b87-4bf1-8031-3d58373b8cad",
   "metadata": {},
   "outputs": [],
   "source": [
    "masses"
   ]
  },
  {
   "cell_type": "markdown",
   "id": "902d9351-53d4-462d-82a7-362b7ead046a",
   "metadata": {},
   "source": [
    "How do the masses of the HR 8799 planets compare with the masses of gas giants in our own solar system?"
   ]
  },
  {
   "cell_type": "markdown",
   "id": "e0ee176a-16ce-439b-b75e-92b4d88d2424",
   "metadata": {},
   "source": []
  },
  {
   "cell_type": "markdown",
   "id": "4e294528-59da-4dbb-88ad-b7e842005963",
   "metadata": {},
   "source": [
    "# Change Log: please use the markdown cells at the end of the notebook to keep track of changes made by you and your project partner."
   ]
  },
  {
   "cell_type": "markdown",
   "id": "41f948a1-a97a-49a1-a9c7-760cfa1c9f10",
   "metadata": {},
   "source": []
  }
 ],
 "metadata": {
  "kernelspec": {
   "display_name": "Python 3 (ipykernel)",
   "language": "python",
   "name": "python3"
  },
  "language_info": {
   "codemirror_mode": {
    "name": "ipython",
    "version": 3
   },
   "file_extension": ".py",
   "mimetype": "text/x-python",
   "name": "python",
   "nbconvert_exporter": "python",
   "pygments_lexer": "ipython3",
   "version": "3.12.1"
  }
 },
 "nbformat": 4,
 "nbformat_minor": 5
}
